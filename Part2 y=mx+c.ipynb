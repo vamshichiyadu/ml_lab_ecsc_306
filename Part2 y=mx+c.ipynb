{
 "cells": [
  {
   "cell_type": "code",
   "execution_count": 14,
   "metadata": {},
   "outputs": [
    {
     "name": "stdout",
     "output_type": "stream",
     "text": [
      "mean of X\n",
      "3.5\n",
      "mean of Y\n",
      "6.5\n",
      "Variance of X\n",
      "17.5\n",
      "Co-Variance of X and Y\n",
      "7.5\n",
      "Value of m\n",
      "0.428571\n",
      "Value of C\n",
      "5.0\n"
     ]
    }
   ],
   "source": [
    "\n",
    "\n",
    "import tensorflow as tf\n",
    "tf.reset_default_graph()\n",
    "a = tf.constant([1.0, 2.0, 3.0, 4.0, 5.0, 6.0],  name='a')\n",
    "b = tf.constant([7.0, 6.0, 5.0, 4.0, 8.0, 9.0],  name='b')\n",
    "with tf.name_scope(\"Mean_of_X_and_Y\"):\n",
    "    with tf.name_scope(\"Mean_of_X\"):\n",
    "        c=tf.reduce_mean(a)\n",
    "        sess=tf.Session()\n",
    "        print('mean of X')\n",
    "        print(sess.run(c))\n",
    "    with tf.name_scope(\"Mean_of_Y\"):\n",
    "        d=tf.reduce_mean(b)\n",
    "        sess=tf.Session()\n",
    "        print('mean of Y');\n",
    "        print(sess.run(d))\n",
    "with tf.name_scope(\"Variance_of_x\"):\n",
    "    e=tf.subtract(a,c)\n",
    "    f=tf.multiply(e,e)\n",
    "    g=tf.reduce_mean(f)\n",
    "    h=tf.multiply(g, 6,)\n",
    "    sess=tf.Session()\n",
    "    print('Variance of X')\n",
    "    print(sess.run(h))\n",
    "with tf.name_scope(\"Co-Variance_of_x_and_y\"):\n",
    "    i=tf.subtract(b,d)\n",
    "    j=tf.multiply(e,i)\n",
    "    k=tf.reduce_mean(j)\n",
    "    l=tf.multiply(k, 6,)\n",
    "    sess=tf.Session()\n",
    "    print('Co-Variance of X and Y')\n",
    "    print(sess.run(l))\n",
    "with tf.name_scope(\"Value_of_m\"):\n",
    "    m=tf.divide(l,h)\n",
    "    sess=tf.Session()\n",
    "    print('Value of m')\n",
    "    print(sess.run(m))\n",
    "with tf.name_scope(\"Value_of_c\"):\n",
    "    n=tf.multiply(m, c,)\n",
    "    o=tf.subtract(d, n,)\n",
    "    sess=tf.Session()\n",
    "    print('Value of C');\n",
    "    print(sess.run(o))    \n",
    "with tf.Session() as sess:\n",
    "    writer = tf.summary.FileWriter(\"/tmp/tboard/output3\", sess.graph)\n",
    "    writer.close()\n",
    "#value of c\n",
    "\n"
   ]
  },
  {
   "cell_type": "code",
   "execution_count": 35,
   "metadata": {},
   "outputs": [
    {
     "name": "stdout",
     "output_type": "stream",
     "text": [
      "mean of X\n",
      "3.5\n",
      "mean of Y\n",
      "4.5\n",
      "Variance of X\n",
      "17.5\n",
      "Co-Variance of X and Y\n",
      "17.5\n",
      "Value of m\n",
      "1.0\n",
      "Value of C\n",
      "1.0\n"
     ]
    }
   ],
   "source": [
    "\n",
    "\n",
    "import tensorflow as tf\n",
    "tf.reset_default_graph()\n",
    "a = tf.constant([1.0, 2.0, 3.0, 4.0, 5.0, 6.0],  name='a')\n",
    "b = tf.constant([2.0, 3.0, 4.0, 5.0, 6.0, 7.0],  name='b')\n",
    "with tf.name_scope(\"Mean_of_X_and_Y\"):\n",
    "    with tf.name_scope(\"Mean_of_X\"):\n",
    "        c=tf.reduce_mean(a)\n",
    "        sess=tf.Session()\n",
    "        print('mean of X')\n",
    "        print(sess.run(c))\n",
    "    with tf.name_scope(\"Mean_of_Y\"):\n",
    "        d=tf.reduce_mean(b)\n",
    "        sess=tf.Session()\n",
    "        print('mean of Y');\n",
    "        print(sess.run(d))\n",
    "with tf.name_scope(\"Variance_of_x\"):\n",
    "    e=tf.subtract(a,c)\n",
    "    f=tf.multiply(e,e)\n",
    "    g=tf.reduce_mean(f)\n",
    "    h=tf.multiply(g, 6,)\n",
    "    sess=tf.Session()\n",
    "    print('Variance of X')\n",
    "    print(sess.run(h))\n",
    "with tf.name_scope(\"Co-Variance_of_x_and_y\"):\n",
    "    i=tf.subtract(b,d)\n",
    "    j=tf.multiply(e,i)\n",
    "    k=tf.reduce_mean(j)\n",
    "    l=tf.multiply(k, 6,)\n",
    "    sess=tf.Session()\n",
    "    print('Co-Variance of X and Y')\n",
    "    print(sess.run(l))\n",
    "with tf.name_scope(\"Value_of_m\"):\n",
    "    m=tf.divide(l,h)\n",
    "    sess=tf.Session()\n",
    "    print('Value of m')\n",
    "    print(sess.run(m))\n",
    "with tf.name_scope(\"Value_of_c\"):\n",
    "    n=tf.multiply(m, c,)\n",
    "    o=tf.subtract(d, n,)\n",
    "    sess=tf.Session()\n",
    "    print('Value of C');\n",
    "    print(sess.run(o))  \n",
    "\n",
    "with tf.Session() as sess:\n",
    "    writer = tf.summary.FileWriter(\"/tmp/tboard/output3\", sess.graph)\n",
    "    writer.close()\n",
    "#value of c\n",
    "\n"
   ]
  },
  {
   "cell_type": "code",
   "execution_count": 39,
   "metadata": {},
   "outputs": [
    {
     "name": "stdout",
     "output_type": "stream",
     "text": [
      "[2.0, 3.0, 4.0, 5.0, 6.0, 7.0]\n"
     ]
    }
   ],
   "source": [
    "import numpy\n",
    "with tf.Session() as sess:\n",
    "    x1=sess.run(a)\n",
    "    y1=sess.run(b)\n",
    "    graph_x=numpy.asarray(x1)\n",
    "    graph_y=numpy.asarray(y1) \n",
    "    \n",
    "    x2=tf.constant([1.0,2.0,3.0,4.0,5.0,6.0])\n",
    "with tf.Session() as sess:\n",
    "    x3=sess.run(x2)\n",
    "x4=numpy.asarray(x3)\n",
    "\n",
    "y2=[0]*6\n",
    "\n",
    "with tf.Session() as sess:\n",
    "    for i in range(len(sess.run(x2))):\n",
    "        z=sess.run(x2[i])\n",
    "        w=tf.multiply(z,m)\n",
    "        q=tf.add(w,o)\n",
    "        y2[i]=sess.run(q)\n",
    "print(y2)"
   ]
  },
  {
   "cell_type": "code",
   "execution_count": 40,
   "metadata": {},
   "outputs": [
    {
     "data": {
      "image/png": "[encoded data removed]",
      "text/plain": [
       "<matplotlib.figure.Figure at 0x7f7133f7dc18>"
      ]
     },
     "metadata": {},
     "output_type": "display_data"
    }
   ],
   "source": [
    "import matplotlib.pyplot as plt\n",
    "plt.plot(graph_x,graph_y,'ro',label='Actual values')\n",
    "plt.plot(x4,y2,label='fitted line')\n",
    "plt.legend()\n",
    "plt.show()"
   ]
  },
  {
   "cell_type": "code",
   "execution_count": 41,
   "metadata": {},
   "outputs": [
    {
     "name": "stdout",
     "output_type": "stream",
     "text": [
      "mean of X\n",
      "3.5\n",
      "mean of Y\n",
      "4.5\n",
      "Variance of X\n",
      "17.5\n",
      "Co-Variance of X and Y\n",
      "17.5\n",
      "Value of m\n",
      "1.0\n",
      "Value of C\n",
      "1.0\n",
      "Root Mean Square Error\n",
      "1.70783\n"
     ]
    }
   ],
   "source": [
    "import tensorflow as tf\n",
    "tf.reset_default_graph()\n",
    "a = tf.constant([1.0, 2.0, 3.0, 4.0, 5.0, 6.0],  name='a')\n",
    "b = tf.constant([2.0, 3.0, 4.0, 5.0, 6.0, 7.0],  name='b')\n",
    "with tf.name_scope(\"Mean_of_X_and_Y\"):\n",
    "    with tf.name_scope(\"Mean_of_X\"):\n",
    "        c=tf.reduce_mean(a)\n",
    "        sess=tf.Session()\n",
    "        print('mean of X')\n",
    "        print(sess.run(c))\n",
    "    with tf.name_scope(\"Mean_of_Y\"):\n",
    "        d=tf.reduce_mean(b)\n",
    "        sess=tf.Session()\n",
    "        print('mean of Y');\n",
    "        print(sess.run(d))\n",
    "with tf.name_scope(\"Variance_of_x\"):\n",
    "    e=tf.subtract(a,c)\n",
    "    f=tf.multiply(e,e)\n",
    "    g=tf.reduce_mean(f)\n",
    "    h=tf.multiply(g, 6,)\n",
    "    sess=tf.Session()\n",
    "    print('Variance of X')\n",
    "    print(sess.run(h))\n",
    "with tf.name_scope(\"Co-Variance_of_x_and_y\"):\n",
    "    i=tf.subtract(b,d)\n",
    "    j=tf.multiply(e,i)\n",
    "    k=tf.reduce_mean(j)\n",
    "    l=tf.multiply(k, 6,)\n",
    "    sess=tf.Session()\n",
    "    print('Co-Variance of X and Y')\n",
    "    print(sess.run(l))\n",
    "with tf.name_scope(\"Value_of_m\"):\n",
    "    m=tf.divide(l,h)\n",
    "    sess=tf.Session()\n",
    "    print('Value of m')\n",
    "    print(sess.run(m))\n",
    "with tf.name_scope(\"Value_of_c\"):\n",
    "    n=tf.multiply(m, c,)\n",
    "    o=tf.subtract(d, n,)\n",
    "    sess=tf.Session()\n",
    "    print('Value of C');\n",
    "    print(sess.run(o))  \n",
    "\n",
    "with tf.name_scope('Root_mean_square_error'):\n",
    "    p=tf.subtract(d, b,)\n",
    "    r=tf.multiply(p, p)\n",
    "    s=tf.reduce_sum(r)\n",
    "    t=tf.divide(s, 6,)\n",
    "    u=tf.sqrt(t)\n",
    "    print('Root Mean Square Error')\n",
    "    print(sess.run(u))\n",
    "    \n",
    "with tf.Session() as sess:\n",
    "    writer = tf.summary.FileWriter(\"/tmp/tboard/output3\", sess.graph)\n",
    "    writer.close()\n",
    "#value of c\n",
    "\n"
   ]
  },
  {
   "cell_type": "code",
   "execution_count": null,
   "metadata": {
    "collapsed": true
   },
   "outputs": [],
   "source": []
  }
 ],
 "metadata": {
  "kernelspec": {
   "display_name": "Python 3",
   "language": "python",
   "name": "python3"
  },
  "language_info": {
   "codemirror_mode": {
    "name": "ipython",
    "version": 3
   },
   "file_extension": ".py",
   "mimetype": "text/x-python",
   "name": "python",
   "nbconvert_exporter": "python",
   "pygments_lexer": "ipython3",
   "version": "3.6.1"
  }
 },
 "nbformat": 4,
 "nbformat_minor": 2
}
