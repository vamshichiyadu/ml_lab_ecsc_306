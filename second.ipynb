{
 "cells": [
  {
   "cell_type": "code",
   "execution_count": 1,
   "metadata": {},
   "outputs": [
    {
     "name": "stdout",
     "output_type": "stream",
     "text": [
      "36\n"
     ]
    }
   ],
   "source": [
    "import tensorflow as tf\n",
    "\n",
    "with tf.name_scope(\"5_minus_6_plus_7_squared\"):\n",
    "    a = tf.constant(5)\n",
    "    b = tf.constant(6)\n",
    "    c = tf.constant(7)\n",
    "    d = tf.square(a, name=\"a_2\")\n",
    "    e = tf.square(b, name=\"b_2\")\n",
    "    f = tf.square(c, name=\"c_2\")\n",
    "    g = tf.multiply(a,b, name=\"ab\")\n",
    "    h = tf.multiply(g,2, name=\"2ab\")\n",
    "    i = tf.multiply(b,c, name=\"bc\")\n",
    "    j = tf.multiply(i,2, name=\"2bc\")\n",
    "    k = tf.multiply(c,a, name=\"ca\")\n",
    "    l = tf.multiply(k,2, name=\"2ca\")\n",
    "   \n",
    "    m = tf.add(d,e, name=\"a_2_plus_b_2\")\n",
    "    n = tf.add(m,f, name=\"a_2_plus_b_2_plus_c_2\")\n",
    "    o = tf.subtract(n,h, name=\"a_2_plus_b_2_plus_c_2_minus_2ab\")\n",
    "    p = tf.subtract(o,j, name=\"a_2_plus_b_2_plus_c_2_minus_2ab_minus_2bc\")\n",
    "    q = tf.add(p,l, name=\"a_2_plus_b_2_plus_c_2_minus_2ab_minus_2bc_plus_2ca\")\n",
    "\n",
    "with tf.Session() as sess:\n",
    "    writer = tf.summary.FileWriter(\"/tmp/tboard/output101\", sess.graph)\n",
    "    print(sess.run(q))\n",
    "    writer.close()"
   ]
  },
  {
   "cell_type": "code",
   "execution_count": null,
   "metadata": {
    "collapsed": true
   },
   "outputs": [],
   "source": []
  }
 ],
 "metadata": {
  "kernelspec": {
   "display_name": "Python 3",
   "language": "python",
   "name": "python3"
  },
  "language_info": {
   "codemirror_mode": {
    "name": "ipython",
    "version": 3
   },
   "file_extension": ".py",
   "mimetype": "text/x-python",
   "name": "python",
   "nbconvert_exporter": "python",
   "pygments_lexer": "ipython3",
   "version": "3.6.1"
  }
 },
 "nbformat": 4,
 "nbformat_minor": 2
}
