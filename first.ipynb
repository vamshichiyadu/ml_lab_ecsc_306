{
 "cells": [
  {
   "cell_type": "code",
   "execution_count": 1,
   "metadata": {},
   "outputs": [
    {
     "name": "stdout",
     "output_type": "stream",
     "text": [
      "441\n"
     ]
    }
   ],
   "source": [
    "import tensorflow as tf\n",
    "\n",
    "with tf.name_scope(\"Square_of_10_plus_11\"):\n",
    "    x1 = tf.constant(10)\n",
    "    x2 = tf.constant(11)\n",
    "    x3 = tf.square(x1, name=\"x1_2\")\n",
    "    x4 = tf.square(x2, name=\"x2_2\")\n",
    "    x5 = tf.multiply(x1,x2, name=\"x1x2\")\n",
    "    x6 = tf.multiply(x5,2, name=\"2x1x2\")\n",
    "    x7 = tf.add(x3,x4, name=\"x1_2_plus_x2\")\n",
    "    x8 = tf.add(x7,x6, name=\"x1_2_plus_x2_2_plus_2x1x2\")\n",
    "   \n",
    "with tf.Session() as sess:\n",
    "    writer = tf.summary.FileWriter(\"/tmp/tboard/output20_c1\", sess.graph)\n",
    "    print(sess.run(x8))\n",
    "    writer.close()"
   ]
  },
  {
   "cell_type": "code",
   "execution_count": null,
   "metadata": {
    "collapsed": true
   },
   "outputs": [],
   "source": []
  }
 ],
 "metadata": {
  "kernelspec": {
   "display_name": "Python 3",
   "language": "python",
   "name": "python3"
  },
  "language_info": {
   "codemirror_mode": {
    "name": "ipython",
    "version": 3
   },
   "file_extension": ".py",
   "mimetype": "text/x-python",
   "name": "python",
   "nbconvert_exporter": "python",
   "pygments_lexer": "ipython3",
   "version": "3.6.1"
  }
 },
 "nbformat": 4,
 "nbformat_minor": 2
}
