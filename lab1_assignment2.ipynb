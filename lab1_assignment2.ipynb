{
 "cells": [
  {
   "cell_type": "code",
   "execution_count": 22,
   "metadata": {},
   "outputs": [
    {
     "name": "stdout",
     "output_type": "stream",
     "text": [
      "2.75\n",
      "3.125\n",
      "1.5125\n",
      "0.935\n",
      "0.618182\n",
      "1.425\n"
     ]
    }
   ],
   "source": [
    "import tensorflow as tf\n",
    "x=tf.constant([1.1,2.2,3.3,4.4])\n",
    "y=tf.constant([2.2,3.3,3,4])\n",
    "n=tf.to_float(tf.count_nonzero(x))\n",
    "var=tf.constant(0.0)\n",
    "\n",
    "mean_x=tf.reduce_mean(x)\n",
    "mean_y=tf.reduce_mean(y)\n",
    "\n",
    "ss=tf.Session()\n",
    "print (ss.run(mean_x))\n",
    "print (ss.run(mean_y))\n",
    "\n",
    "#var_x=tf.nn.weighted_moments(x,,mean_x)\n",
    "x_x=tf.subtract(x,mean_x)\n",
    "\n",
    "\n",
    "y_y=tf.subtract(y,mean_y)\n",
    "\n",
    "\n",
    "sqr=tf.square(x_x)\n",
    "\n",
    "\n",
    "var=tf.reduce_sum(sqr)/n\n",
    "\n",
    "\n",
    "\n",
    "print (ss.run(var))\n",
    "\n",
    "\n",
    "tmp=tf.multiply(x_x,y_y)\n",
    "cov=tf.reduce_sum(tmp)/(n-1)\n",
    "print (ss.run(cov))\n",
    "\n",
    "\n",
    "m=tf.div(cov,var)\n",
    "print (ss.run(m))\n",
    "\n",
    "tmp2=tf.multiply(m,mean_x)\n",
    "c=tf.subtract(mean_y,tmp2)\n",
    "print (ss.run(c))\n",
    "\n",
    "\n"
   ]
  },
  {
   "cell_type": "code",
   "execution_count": null,
   "metadata": {
    "collapsed": true
   },
   "outputs": [],
   "source": []
  }
 ],
 "metadata": {
  "kernelspec": {
   "display_name": "Python 3",
   "language": "python",
   "name": "python3"
  },
  "language_info": {
   "codemirror_mode": {
    "name": "ipython",
    "version": 3
   },
   "file_extension": ".py",
   "mimetype": "text/x-python",
   "name": "python",
   "nbconvert_exporter": "python",
   "pygments_lexer": "ipython3",
   "version": "3.6.1"
  }
 },
 "nbformat": 4,
 "nbformat_minor": 2
}
